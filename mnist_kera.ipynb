{
 "cells": [
  {
   "cell_type": "markdown",
   "metadata": {},
   "source": [
    "### Loading the MNIST dataset in Keras"
   ]
  },
  {
   "cell_type": "code",
   "execution_count": 2,
   "metadata": {},
   "outputs": [
    {
     "name": "stderr",
     "output_type": "stream",
     "text": [
      "Using Theano backend.\n"
     ]
    },
    {
     "name": "stdout",
     "output_type": "stream",
     "text": [
      "Downloading data from https://s3.amazonaws.com/img-datasets/mnist.npz\n",
      "11493376/11490434 [==============================] - 5s 0us/step\n"
     ]
    },
    {
     "name": "stderr",
     "output_type": "stream",
     "text": [
      "c:\\users\\bo\\anaconda3\\envs\\py35\\lib\\site-packages\\matplotlib\\cbook\\deprecation.py:106: MatplotlibDeprecationWarning: Adding an axes using the same arguments as a previous axes currently reuses the earlier instance.  In a future version, a new instance will always be created and returned.  Meanwhile, this warning can be suppressed, and the future behavior ensured, by passing a unique label to each axes instance.\n",
      "  warnings.warn(message, mplDeprecation, stacklevel=1)\n"
     ]
    },
    {
     "data": {
      "text/plain": [
       "<matplotlib.figure.Figure at 0x247f627bb38>"
      ]
     },
     "metadata": {},
     "output_type": "display_data"
    }
   ],
   "source": [
    "from keras.datasets import mnist\n",
    "import matplotlib.pyplot as plt\n",
    "# load the mnist \n",
    "(X_train, Y_train), (X_test, Y_test) = mnist.load_data()\n"
   ]
  },
  {
   "cell_type": "code",
   "execution_count": 8,
   "metadata": {},
   "outputs": [
    {
     "data": {
      "image/png": "[encoded data removed]",
      "text/plain": [
       "<matplotlib.figure.Figure at 0x2478557cf98>"
      ]
     },
     "metadata": {},
     "output_type": "display_data"
    }
   ],
   "source": [
    "%matplotlib inline\n",
    "# Plot 4 images as gray scale\n",
    "plt.subplot(221)\n",
    "plt.imshow(X_train[0], cmap = plt.get_cmap('gray'))\n",
    "plt.subplot(222)\n",
    "plt.imshow(X_train[1], cmap = plt.get_cmap('gray'))\n",
    "plt.subplot(223)\n",
    "plt.imshow(X_train[2], cmap = plt.get_cmap('gray'))\n",
    "plt.subplot(224)\n",
    "plt.imshow(X_train[3], cmap = plt.get_cmap('gray'))\n",
    "# show the plot\n",
    "plt.show()"
   ]
  },
  {
   "cell_type": "markdown",
   "metadata": {},
   "source": [
    "### Baseline Model with Multilayer Perceptrons"
   ]
  },
  {
   "cell_type": "code",
   "execution_count": 9,
   "metadata": {},
   "outputs": [],
   "source": [
    "from keras.models import Sequential\n",
    "from keras.layers import Dense\n",
    "from keras.layers import Dropout\n",
    "from keras.utils import np_utils"
   ]
  },
  {
   "cell_type": "code",
   "execution_count": 11,
   "metadata": {},
   "outputs": [],
   "source": [
    "# fix random seed for reproducibility\n",
    "import numpy\n",
    "seed = 7\n",
    "numpy.random.seed(seed)"
   ]
  },
  {
   "cell_type": "code",
   "execution_count": 31,
   "metadata": {},
   "outputs": [],
   "source": [
    "(X_train, Y_train), (X_test, Y_test) = mnist.load_data()\n",
    "num_pixels = X_train.shape[1] * X_train.shape[2]\n",
    "X_train = X_train.reshape(X_train.shape[0], num_pixels).astype('float32')\n",
    "X_test = X_test.reshape(X_test.shape[0], num_pixels).astype('float32')"
   ]
  },
  {
   "cell_type": "code",
   "execution_count": 32,
   "metadata": {},
   "outputs": [],
   "source": [
    "# normalize inputs from 0-255 to 0-1\n",
    "X_train = X_train /255\n",
    "X_test = X_test/255"
   ]
  },
  {
   "cell_type": "code",
   "execution_count": 33,
   "metadata": {},
   "outputs": [],
   "source": [
    "# one hot encode outputs\n",
    "Y_train = np_utils.to_categorical(Y_train)\n",
    "Y_test = np_utils.to_categorical(Y_test)\n",
    "num_classes = Y_test.shape[1]"
   ]
  },
  {
   "cell_type": "code",
   "execution_count": 24,
   "metadata": {},
   "outputs": [],
   "source": [
    "def baseline_model():\n",
    "    model = Sequential()\n",
    "    model.add(Dense(num_pixels, input_dim = num_pixels, kernel_initializer = 'normal',activation = 'relu'))\n",
    "    model.add(Dense(num_classes, kernel_initializer = 'normal', activation = 'softmax'))\n",
    "    model.compile(loss = 'categorical_crossentropy', optimizer = 'adam', metrics=['accuracy'])\n",
    "    return model"
   ]
  },
  {
   "cell_type": "code",
   "execution_count": 25,
   "metadata": {},
   "outputs": [],
   "source": [
    "model = baseline_model()"
   ]
  },
  {
   "cell_type": "code",
   "execution_count": 35,
   "metadata": {},
   "outputs": [
    {
     "name": "stdout",
     "output_type": "stream",
     "text": [
      "Train on 60000 samples, validate on 10000 samples\n",
      "Epoch 1/10\n",
      " - 7s - loss: 0.2750 - acc: 0.9215 - val_loss: 0.1388 - val_acc: 0.9582\n",
      "Epoch 2/10\n",
      " - 7s - loss: 0.1098 - acc: 0.9685 - val_loss: 0.0900 - val_acc: 0.9729\n",
      "Epoch 3/10\n",
      " - 7s - loss: 0.0696 - acc: 0.9801 - val_loss: 0.0718 - val_acc: 0.9767\n",
      "Epoch 4/10\n",
      " - 7s - loss: 0.0497 - acc: 0.9857 - val_loss: 0.0691 - val_acc: 0.9790\n",
      "Epoch 5/10\n",
      " - 7s - loss: 0.0364 - acc: 0.9897 - val_loss: 0.0648 - val_acc: 0.9801\n",
      "Epoch 6/10\n",
      " - 7s - loss: 0.0262 - acc: 0.9932 - val_loss: 0.0621 - val_acc: 0.9804\n",
      "Epoch 7/10\n",
      " - 7s - loss: 0.0203 - acc: 0.9951 - val_loss: 0.0566 - val_acc: 0.9815\n",
      "Epoch 8/10\n",
      " - 7s - loss: 0.0157 - acc: 0.9963 - val_loss: 0.0580 - val_acc: 0.9809\n",
      "Epoch 9/10\n",
      " - 7s - loss: 0.0109 - acc: 0.9977 - val_loss: 0.0612 - val_acc: 0.9808\n",
      "Epoch 10/10\n",
      " - 7s - loss: 0.0078 - acc: 0.9986 - val_loss: 0.0553 - val_acc: 0.9841\n"
     ]
    },
    {
     "data": {
      "text/plain": [
       "<keras.callbacks.History at 0x247855e0048>"
      ]
     },
     "execution_count": 35,
     "metadata": {},
     "output_type": "execute_result"
    }
   ],
   "source": [
    "model.fit(X_train, Y_train, validation_data = (X_test, Y_test), epochs = 10, batch_size = 200, verbose = 2)"
   ]
  },
  {
   "cell_type": "code",
   "execution_count": 37,
   "metadata": {},
   "outputs": [
    {
     "name": "stdout",
     "output_type": "stream",
     "text": [
      "Baseline Error: 1.59%\n"
     ]
    }
   ],
   "source": [
    "scores = model.evaluate(X_test,Y_test, verbose = 0)\n",
    "print(\"Baseline Error: %.2f%%\" % (100-scores[1]*100))"
   ]
  },
  {
   "cell_type": "markdown",
   "metadata": {},
   "source": [
    "### Simple Convolutional NeuralNetwork for MNIST"
   ]
  },
  {
   "cell_type": "code",
   "execution_count": 1,
   "metadata": {},
   "outputs": [
    {
     "name": "stderr",
     "output_type": "stream",
     "text": [
      "Using Theano backend.\n"
     ]
    }
   ],
   "source": [
    "import numpy\n",
    "from keras.datasets import mnist\n",
    "from keras.models import Sequential\n",
    "from keras.layers import Dense\n",
    "from keras.layers import Dropout\n",
    "from keras.layers import Flatten\n",
    "from keras.layers.convolutional import Conv2D\n",
    "from keras.layers.convolutional import MaxPooling2D\n",
    "from keras.utils import np_utils"
   ]
  },
  {
   "cell_type": "code",
   "execution_count": 2,
   "metadata": {},
   "outputs": [],
   "source": [
    "# fix numpy random seed\n",
    "seed = 7\n",
    "numpy.random.seed(seed)"
   ]
  },
  {
   "cell_type": "code",
   "execution_count": 3,
   "metadata": {},
   "outputs": [],
   "source": [
    "# load data\n",
    "(X_train, Y_train), (X_test, Y_test) = mnist.load_data()"
   ]
  },
  {
   "cell_type": "code",
   "execution_count": 4,
   "metadata": {},
   "outputs": [
    {
     "data": {
      "text/plain": [
       "(60000, 28, 28)"
      ]
     },
     "execution_count": 4,
     "metadata": {},
     "output_type": "execute_result"
    }
   ],
   "source": [
    "X_train.shape"
   ]
  },
  {
   "cell_type": "markdown",
   "metadata": {},
   "source": [
    "#### The first step is to make sure the input dimensions are correct\n",
    "For **keras.layers.Conv2D**, the argument data_format helps to specify the input dimensions.\n",
    "**data_format**: A string, one of channels_last (default) or channels_first. The ordering of the dimensions in the inputs. channels_last corresponds to inputs with shape (batch, height, width, channels) while channels_first corresponds to inputs with shape (batch, channels, height, width). It defaults to the image_data_format value found in your Keras config file at ~/.keras/keras.json. If you never set it, then it will be \"channels_last\"."
   ]
  },
  {
   "cell_type": "code",
   "execution_count": 5,
   "metadata": {},
   "outputs": [],
   "source": [
    "# reshape to be [samples][width][height][channels]\n",
    "X_train = X_train.reshape(X_train.shape[0], X_train.shape[1],X_train.shape[2],1).astype('float32')\n",
    "X_test = X_test.reshape(X_test.shape[0], X_test.shape[1], X_test.shape[2],1).astype('float32')"
   ]
  },
  {
   "cell_type": "code",
   "execution_count": 6,
   "metadata": {},
   "outputs": [],
   "source": [
    "# normalize input from 0-255 to 0-1\n",
    "X_train = X_train/255\n",
    "X_test = X_test/255\n"
   ]
  },
  {
   "cell_type": "code",
   "execution_count": 7,
   "metadata": {},
   "outputs": [],
   "source": [
    "# one hot encodes output\n",
    "Y_train = np_utils.to_categorical(Y_train)\n",
    "Y_test = np_utils.to_categorical(Y_test)\n",
    "num_classes = Y_test.shape[1]"
   ]
  },
  {
   "cell_type": "code",
   "execution_count": 8,
   "metadata": {},
   "outputs": [
    {
     "data": {
      "text/plain": [
       "(60000, 28, 28, 1)"
      ]
     },
     "execution_count": 8,
     "metadata": {},
     "output_type": "execute_result"
    }
   ],
   "source": [
    "X_train.shape"
   ]
  },
  {
   "cell_type": "code",
   "execution_count": 9,
   "metadata": {},
   "outputs": [],
   "source": [
    "def baseline_model():\n",
    "    # create model\n",
    "    model = Sequential()\n",
    "    model.add(Conv2D(32,(5,5), input_shape = (28, 28, 1),\\\n",
    "                     activation = 'relu'))\n",
    "    model.add(MaxPooling2D(pool_size = (2,2)))\n",
    "    model.add(Dropout(0.2))\n",
    "    model.add(Flatten())\n",
    "    model.add(Dense(128, activation = 'relu'))\n",
    "    model.add(Dense(num_classes, activation = 'softmax'))\n",
    "    # Compile model\n",
    "    model.compile(loss = 'categorical_crossentropy', optimizer = 'adam', metrics = ['accuracy'])\n",
    "    return model"
   ]
  },
  {
   "cell_type": "code",
   "execution_count": 10,
   "metadata": {},
   "outputs": [
    {
     "name": "stdout",
     "output_type": "stream",
     "text": [
      "Train on 60000 samples, validate on 10000 samples\n",
      "Epoch 1/10\n",
      " - 96s - loss: 0.2361 - acc: 0.9331 - val_loss: 0.0770 - val_acc: 0.9760\n",
      "Epoch 2/10\n",
      " - 86s - loss: 0.0707 - acc: 0.9789 - val_loss: 0.0423 - val_acc: 0.9867\n",
      "Epoch 3/10\n",
      " - 87s - loss: 0.0500 - acc: 0.9847 - val_loss: 0.0365 - val_acc: 0.9883\n",
      "Epoch 4/10\n",
      " - 85s - loss: 0.0412 - acc: 0.9871 - val_loss: 0.0371 - val_acc: 0.9873\n",
      "Epoch 5/10\n",
      " - 85s - loss: 0.0323 - acc: 0.9899 - val_loss: 0.0338 - val_acc: 0.9883\n",
      "Epoch 6/10\n",
      " - 81s - loss: 0.0275 - acc: 0.9917 - val_loss: 0.0323 - val_acc: 0.9899\n",
      "Epoch 7/10\n",
      " - 80s - loss: 0.0233 - acc: 0.9926 - val_loss: 0.0332 - val_acc: 0.9893\n",
      "Epoch 8/10\n",
      " - 79s - loss: 0.0185 - acc: 0.9944 - val_loss: 0.0280 - val_acc: 0.9912\n",
      "Epoch 9/10\n",
      " - 82s - loss: 0.0167 - acc: 0.9946 - val_loss: 0.0304 - val_acc: 0.9896\n",
      "Epoch 10/10\n",
      " - 93s - loss: 0.0138 - acc: 0.9954 - val_loss: 0.0289 - val_acc: 0.9911\n"
     ]
    },
    {
     "data": {
      "text/plain": [
       "<keras.callbacks.History at 0x2069cce1eb8>"
      ]
     },
     "execution_count": 10,
     "metadata": {},
     "output_type": "execute_result"
    }
   ],
   "source": [
    "model = baseline_model()\n",
    "model.fit(X_train, Y_train, validation_data = (X_test, Y_test), epochs = 10, batch_size =200, verbose =2)"
   ]
  },
  {
   "cell_type": "code",
   "execution_count": 66,
   "metadata": {},
   "outputs": [
    {
     "name": "stdout",
     "output_type": "stream",
     "text": [
      "1.04%\n"
     ]
    }
   ],
   "source": [
    "scores = model.evaluate(X_test,Y_test, verbose = 0)\n",
    "print('%.2f%%' % (100- scores[1]*100))"
   ]
  },
  {
   "cell_type": "markdown",
   "metadata": {},
   "source": [
    "### Larger Convolutional Neural Network for MNIST"
   ]
  },
  {
   "cell_type": "code",
   "execution_count": 13,
   "metadata": {},
   "outputs": [],
   "source": [
    "def larger_model():\n",
    "    model = Sequential()\n",
    "    model.add(Conv2D(30, (5,5), input_shape = (28, 28, 1), activation = 'relu'))\n",
    "    model.add(MaxPooling2D((2,2)))\n",
    "    model.add(Conv2D(15, (3,3),activation = 'relu'))\n",
    "    model.add(MaxPooling2D((2,2)))\n",
    "    model.add(Dropout(0.2))\n",
    "    model.add(Flatten())\n",
    "    model.add(Dense(128, activation = 'relu'))\n",
    "    model.add(Dense(50, activation = 'relu'))\n",
    "    model.add(Dense(num_classes, activation = 'softmax'))\n",
    "    # Compile model\n",
    "    model.compile(loss = 'categorical_crossentropy', optimizer = 'adam', metrics = ['accuracy'])\n",
    "    return model"
   ]
  },
  {
   "cell_type": "code",
   "execution_count": 15,
   "metadata": {},
   "outputs": [
    {
     "name": "stdout",
     "output_type": "stream",
     "text": [
      "Train on 60000 samples, validate on 10000 samples\n",
      "Epoch 1/10\n",
      " - 67s - loss: 0.3679 - acc: 0.8897 - val_loss: 0.0733 - val_acc: 0.9777\n",
      "Epoch 2/10\n",
      " - 89s - loss: 0.0949 - acc: 0.9711 - val_loss: 0.0497 - val_acc: 0.9832\n",
      "Epoch 3/10\n",
      " - 81s - loss: 0.0706 - acc: 0.9779 - val_loss: 0.0387 - val_acc: 0.9867\n",
      "Epoch 4/10\n",
      " - 93s - loss: 0.0589 - acc: 0.9818 - val_loss: 0.0372 - val_acc: 0.9873\n",
      "Epoch 5/10\n",
      " - 101s - loss: 0.0505 - acc: 0.9839 - val_loss: 0.0355 - val_acc: 0.9885\n",
      "Epoch 6/10\n",
      " - 126s - loss: 0.0444 - acc: 0.9859 - val_loss: 0.0304 - val_acc: 0.9902\n",
      "Epoch 7/10\n",
      " - 96s - loss: 0.0386 - acc: 0.9878 - val_loss: 0.0312 - val_acc: 0.9900\n",
      "Epoch 8/10\n",
      " - 80s - loss: 0.0368 - acc: 0.9883 - val_loss: 0.0312 - val_acc: 0.9894\n",
      "Epoch 9/10\n",
      " - 93s - loss: 0.0329 - acc: 0.9890 - val_loss: 0.0299 - val_acc: 0.9894\n",
      "Epoch 10/10\n",
      " - 87s - loss: 0.0307 - acc: 0.9898 - val_loss: 0.0268 - val_acc: 0.9903\n"
     ]
    },
    {
     "data": {
      "text/plain": [
       "<keras.callbacks.History at 0x2072b4a9710>"
      ]
     },
     "execution_count": 15,
     "metadata": {},
     "output_type": "execute_result"
    }
   ],
   "source": [
    "model = larger_model()\n",
    "model.fit(X_train, Y_train, validation_data = (X_test, Y_test), epochs = 10, batch_size =200, verbose =2)"
   ]
  },
  {
   "cell_type": "code",
   "execution_count": 16,
   "metadata": {},
   "outputs": [
    {
     "name": "stdout",
     "output_type": "stream",
     "text": [
      "10000/10000 [==============================] - 6s 583us/step\n",
      "0.97%\n"
     ]
    }
   ],
   "source": [
    "scores = model.evaluate(X_test,Y_test)\n",
    "print('%.2f%%' % (100- scores[1]*100))"
   ]
  }
 ],
 "metadata": {
  "kernelspec": {
   "display_name": "Python 3",
   "language": "python",
   "name": "python3"
  },
  "language_info": {
   "codemirror_mode": {
    "name": "ipython",
    "version": 3
   },
   "file_extension": ".py",
   "mimetype": "text/x-python",
   "name": "python",
   "nbconvert_exporter": "python",
   "pygments_lexer": "ipython3",
   "version": "3.5.4"
  }
 },
 "nbformat": 4,
 "nbformat_minor": 2
}
